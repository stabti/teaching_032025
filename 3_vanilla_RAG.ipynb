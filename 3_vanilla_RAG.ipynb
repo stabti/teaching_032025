{
 "cells": [
  {
   "cell_type": "markdown",
   "metadata": {
    "id": "-iEI9jYn1S-r"
   },
   "source": [
    "# Environnement d'exécution\n",
    "\n",
    "Allez dans \"Fichier\" puis \"enregistrer une copie dans Drive\" pour sauvegarder vos modifications personnelles.\n",
    "\n",
    "Attention, avant de commencer à exécuter le code, il faut choisir un environnement T4 si ce n'est déjà fait (cliquer sur la petite flèche à droite de RAM et Disque en haut à droite)."
   ]
  },
  {
   "cell_type": "markdown",
   "metadata": {
    "id": "cNnYyh13e7ZB"
   },
   "source": [
    "# Installation des packages\n",
    "Ça peut prendre 2 bonnes minutes, c'est normal."
   ]
  },
  {
   "cell_type": "code",
   "execution_count": null,
   "metadata": {
    "colab": {
     "base_uri": "https://localhost:8080/"
    },
    "id": "eJBUXOVVT33q",
    "outputId": "3b7987da-a2aa-4f10-fe82-e8da60256b24"
   },
   "outputs": [],
   "source": [
    "!pip install docling chonkie tiktoken sentence-transformers faiss-cpu transformers accelerate"
   ]
  },
  {
   "cell_type": "markdown",
   "metadata": {
    "id": "EhLwKLK3e0I1"
   },
   "source": [
    "# Import des packages"
   ]
  },
  {
   "cell_type": "code",
   "execution_count": null,
   "metadata": {
    "id": "eCqO9j13UdKX"
   },
   "outputs": [],
   "source": [
    "from docling.document_converter import DocumentConverter # For text extraction\n",
    "from chonkie import TokenChunker # For chunking\n",
    "from sentence_transformers import SentenceTransformer  # For embeddings\n",
    "import faiss  # For vector database\n",
    "import numpy as np  # For numerical operations\n",
    "from google.colab import files # to load a pdf file to test the system\n",
    "\n",
    "# For answer generation with a small language model\n",
    "# from transformers import pipeline\n",
    "import torch\n",
    "from transformers import AutoModelForCausalLM, AutoTokenizer"
   ]
  },
  {
   "cell_type": "markdown",
   "metadata": {
    "id": "cDChhyQz7d8-"
   },
   "source": [
    "# Chargement du PDF\n",
    "Un bouton pour sélectionner le fichier à importer apparaît. Il suffit de faire la sélection."
   ]
  },
  {
   "cell_type": "code",
   "execution_count": null,
   "metadata": {
    "colab": {
     "base_uri": "https://localhost:8080/",
     "height": 74
    },
    "id": "ndK7cCFsWzrE",
    "outputId": "2b0ef5a8-12b0-4f51-8fff-565a7dda7b8f"
   },
   "outputs": [],
   "source": [
    "uploaded = files.upload()\n",
    "\n",
    "# The uploaded file will be stored in a dictionary\n",
    "file_name = list(uploaded.keys())[0]  # Get the name of the uploaded file"
   ]
  },
  {
   "cell_type": "markdown",
   "metadata": {
    "id": "KP9yHIDC767L"
   },
   "source": [
    "# Extraction du texte du PDF"
   ]
  },
  {
   "cell_type": "code",
   "execution_count": null,
   "metadata": {
    "id": "DLmGJTdLX1wh"
   },
   "outputs": [],
   "source": [
    "def extract_text_from_pdf(file_name,output_file=\"output.md\"):\n",
    "  converter = DocumentConverter()\n",
    "  result = converter.convert(file_name)\n",
    "  text=result.document.export_to_markdown()\n",
    "  with open(output_file, \"w\", encoding=\"utf-8\") as f:\n",
    "    f.write(text)\n",
    "  print(f\"Markdown content saved to: {output_file}\")\n",
    "  return text"
   ]
  },
  {
   "cell_type": "markdown",
   "metadata": {
    "id": "nLzNPQqA8Goy"
   },
   "source": [
    "Pour la cellule ci-dessous, pensez à bien mettre le bon nom de fichier PDF. L'extraction du texte prend un peu de temps (1mn environ), c'est normal (un modèle d'OCR est chargé pour analyser le document et cela est chronophage). Une fois terminé, on peut regarder le resultat en ouvrant le fichier markdown dans les documents (panneau de gauche)."
   ]
  },
  {
   "cell_type": "code",
   "execution_count": null,
   "metadata": {
    "colab": {
     "base_uri": "https://localhost:8080/"
    },
    "id": "AmdMoFZFac9c",
    "outputId": "7a7f1489-177b-4361-8d63-3440d596a17f"
   },
   "outputs": [],
   "source": [
    "### Extraction de text avec docling, attention\n",
    "text = extract_text_from_pdf(\"DE_IA_UA_1_Rendu_Grégoire_Cesaro.pdf\",\"output.md\")"
   ]
  },
  {
   "cell_type": "markdown",
   "metadata": {
    "id": "tgwGfxIT8TXs"
   },
   "source": [
    "# Chunking\n",
    "On découpe le texte extrait en petits morceaux (chunks) grâce au package Chonkie. Plusieurs techniques de chunking existent et il est bon d'en comparer plusieurs dans les cas d'usages en entreprise. Ici nous utilisons une méthode très simple qui découpe des chunks de taille chunk_size et avec un intersection de chunk_overlap entre chaque chunk."
   ]
  },
  {
   "cell_type": "code",
   "execution_count": null,
   "metadata": {
    "id": "zUUi1RIAiFEz"
   },
   "outputs": [],
   "source": [
    "def process_text(text):\n",
    "  # Initialize the chunker\n",
    "  chunker = TokenChunker(chunk_size=90, chunk_overlap=30) # defaults to using GPT2 tokenizer\n",
    "  # Chunk the text\n",
    "  chunks = chunker(text)\n",
    "  return chunks\n"
   ]
  },
  {
   "cell_type": "code",
   "execution_count": null,
   "metadata": {
    "colab": {
     "base_uri": "https://localhost:8080/"
    },
    "id": "L9QMzSKriigG",
    "outputId": "0accadc4-a9f3-4454-95c4-614d69302180"
   },
   "outputs": [],
   "source": [
    "### tester le chunking\n",
    "chunks= process_text(text)\n",
    "# observer les chunks obtenus\n",
    "for chunk in chunks:\n",
    "    print(f\"Chunk: {chunk.text}\")\n",
    "    print(f\"Tokens: {chunk.token_count}\")"
   ]
  },
  {
   "cell_type": "code",
   "execution_count": null,
   "metadata": {
    "colab": {
     "base_uri": "https://localhost:8080/"
    },
    "id": "lyBCQwb5UWs7",
    "outputId": "97d30777-4c51-46b2-8ae8-be947f0ca030"
   },
   "outputs": [],
   "source": [
    "print(f\"Total number of chunks: {len(chunks)}\")"
   ]
  },
  {
   "cell_type": "markdown",
   "metadata": {
    "id": "Vp5PByXC86Uf"
   },
   "source": [
    "# Retrieval system\n",
    "On utilise un modèle d'embeddings issu de la librairie transformers de huggingface pour transformer chaque chunk en un vecteur numérique. On va indexer et stocker ces vecteurs grâce à la librairie FAISS développée par Meta qui facilitera également la recherche de vecteurs similaires dans la suite."
   ]
  },
  {
   "cell_type": "code",
   "execution_count": null,
   "metadata": {
    "id": "a4R_PhNbjW9i"
   },
   "outputs": [],
   "source": [
    "# Create retrieval system (FAISS index) with embeddings\n",
    "def create_retriever(chunks):\n",
    "    model = SentenceTransformer(\"sentence-transformers/all-mpnet-base-v2\")\n",
    "    embeddings = model.encode(chunks, convert_to_tensor=True)\n",
    "    embeddings_np = embeddings.cpu().numpy()\n",
    "\n",
    "    dimension = embeddings_np.shape[1]\n",
    "    index = faiss.IndexFlatL2(dimension)\n",
    "    index.add(embeddings_np)\n",
    "    return index, model"
   ]
  },
  {
   "cell_type": "code",
   "execution_count": null,
   "metadata": {
    "id": "aP8ptKA9mb5T"
   },
   "outputs": [],
   "source": [
    "# Create retrieval system\n",
    "index, model = create_retriever(chunks)"
   ]
  },
  {
   "cell_type": "markdown",
   "metadata": {
    "id": "UXNGrrlR-A40"
   },
   "source": [
    "# Identification des chunks les plus pertinents par rapport à la query"
   ]
  },
  {
   "cell_type": "code",
   "execution_count": null,
   "metadata": {
    "id": "88DfzdaIlW16"
   },
   "outputs": [],
   "source": [
    "# Retrieve relevant chunks based on query\n",
    "def retrieve_info(index, model, query):\n",
    "    # transformer la query en vecteur d'embedding\n",
    "    query_embedding = model.encode(query, convert_to_tensor=True).cpu().numpy()\n",
    "    # identifier les k chunks les plus pertinents pour cette query\n",
    "    k = 3  # Number of nearest neighbors to retrieve\n",
    "    scores, indices = index.search(query_embedding.reshape(1, -1), k)\n",
    "    return scores, indices\n",
    "\n",
    "# Example usage\n",
    "# query = \"votre demande en français ici\"  # Replace with your French query\n",
    "# scores, indices = retrieve_info(index, model, query)"
   ]
  },
  {
   "cell_type": "code",
   "execution_count": null,
   "metadata": {
    "id": "kIHOStVcmxzz"
   },
   "outputs": [],
   "source": [
    "# Query: Question à poser au système\n",
    "query= \"Pour quelle raison on s'intéresse à l'utilisation de l'intelligence artificielle dans ce projet ?\""
   ]
  },
  {
   "cell_type": "code",
   "execution_count": null,
   "metadata": {
    "id": "fx0oAFMFnMnR"
   },
   "outputs": [],
   "source": [
    "# Retrieve relevant chunks\n",
    "scores, indices = retrieve_info(index, model, query)"
   ]
  },
  {
   "cell_type": "code",
   "execution_count": null,
   "metadata": {
    "id": "OIGeTawfnbMI"
   },
   "outputs": [],
   "source": [
    "# Regrouper les chunks les plus pertinents an un seul text qui constituera\n",
    "# le context du prompt du modèle de language qui va générer une réponse à la question\n",
    "retrieved_text = \" \".join([chunks[idx].text for idx in indices[0]])\n",
    "#answer = generate_answer(retrieved_text, query)\n",
    "#print(\"\\nAnswer:\", answer)"
   ]
  },
  {
   "cell_type": "code",
   "execution_count": null,
   "metadata": {
    "colab": {
     "base_uri": "https://localhost:8080/"
    },
    "id": "MBbt48J0ApSK",
    "outputId": "f80560f8-d1c6-472c-f475-33b12b6efe64"
   },
   "outputs": [],
   "source": [
    "print(retrieved_text)"
   ]
  },
  {
   "cell_type": "markdown",
   "metadata": {
    "id": "CZd2JTGEAghG"
   },
   "source": [
    "# Génération d'une réponse à la question (query)\n",
    "Grâce à un small language model, en utilisant les chunks les plus pertinents par rapport à la question (contexte) et en formulant un prompt qui concatène ce contexte et la question"
   ]
  },
  {
   "cell_type": "code",
   "execution_count": null,
   "metadata": {
    "colab": {
     "base_uri": "https://localhost:8080/",
     "height": 553,
     "referenced_widgets": [
      "e0e598683e88494898a9f9d9cbdb875c",
      "989173516b7148d49178aa1203c00009",
      "d0f9fd74208748b28d7b42404b4d532a",
      "6729b158fef440dbb2464f4c3d074704",
      "280b011e57ef48e9b7b484c43a555904",
      "70df57e5842e4a92ba9be3215dd20caa",
      "e63af2ab189b4df6b26ca59943140d6e",
      "a4a8337c05cc4352841afe93a7196a93",
      "03de761e97864561a0a4ca9d1d77471f",
      "a7ddbd1b5dcc43f2bcc45fb9288e7403",
      "b2cc1bfa69a8495bb9b227201eef8286",
      "755996e5b03a468a8c2be4350ae9350b",
      "b611a7be263e45c0a4dadc87ccae110a",
      "32bbc174ad194db892fb303dd069ff50",
      "48e160b6104d43fda5b2dd93111b9caa",
      "196fcde43a034c19b680b45b5df5a5e3",
      "09d31e74399c4f4290743faf35e9c0f5",
      "c8fc736f681348c2bedd46854f4afbc2",
      "4ad05ee943e241d6800291a1332de177",
      "f1b5afe902e14829a3cd4c0c221e39d4",
      "04a2ebf72af84843ac8ecec2810d5af8",
      "c170033780f34bcc8f08c6e3d9638a8f"
     ]
    },
    "id": "Dr8QvI5ts7U9",
    "outputId": "b98a4327-8c5f-445d-cbb7-e19e35c4b102"
   },
   "outputs": [],
   "source": [
    "# Chargement du modèle de language, ça peut prendre jusqu'à 1 minute environ\n",
    "\n",
    "model_name = \"ibm-granite/granite-3.1-2b-instruct\"\n",
    "# Chargement du tokenizer pour traiter le texte du prompt\n",
    "tokenizer = AutoTokenizer.from_pretrained(model_name)\n",
    "language_model = AutoModelForCausalLM.from_pretrained(\n",
    "    model_name,\n",
    "    device_map=\"balanced\",  # Using balanced CPU mapping.\n",
    "    torch_dtype=torch.float16  # Use float16 if supported.\n",
    ")\n",
    "# mettre le modèle en mode \"inférence\"\n",
    "language_model.eval()\n"
   ]
  },
  {
   "cell_type": "code",
   "execution_count": null,
   "metadata": {
    "colab": {
     "base_uri": "https://localhost:8080/",
     "height": 370
    },
    "id": "xDCQgcxVyW8x",
    "outputId": "3e95be3b-d947-4a58-ffe9-38b2d75699ad"
   },
   "outputs": [],
   "source": [
    "# prompt = query + context\n",
    "chat = [\n",
    "        { \"role\": \"user\", \"content\": f\"Answer the following question: \\n\\n{query}\\n\\n based on the following information: \\n\\n{retrieved_text}\" },\n",
    "    ]\n",
    "chat = tokenizer.apply_chat_template(chat, tokenize=False, add_generation_prompt=True)\n",
    "# tokenize the text\n",
    "input_tokens = tokenizer(chat, return_tensors=\"pt\").to(\"cuda:0\")\n",
    "#input_tokens = tokenizer(chat, return_tensors=\"pt\").to(\"cpu\") # si le modèle fonctionne avec du cpu\n",
    "# generate output tokens\n",
    "output = language_model.generate(**input_tokens,max_new_tokens=512)\n",
    "# decode output tokens into text\n",
    "output = tokenizer.batch_decode(output)\n",
    "# print output\n",
    "print(output)"
   ]
  },
  {
   "cell_type": "markdown",
   "metadata": {
    "id": "iLHHQozDly-r"
   },
   "source": [
    "# Améliorations\n",
    "Ce TP est un système de RAG ultra basique et a été crée à des fins pédagogiques. De nombreuses améliorations et expérimentations peuvent être menées en partant de cette base.\n",
    "\n",
    "*   Rendre le code plus propre. Par exemple, faire un code qui utilise toutes les fonctions créées ci dessus et qui récapitule tout (d'ailleurs il faudrait créer une fonction pour la dernière cellule de chat). En effet, ici, après chaque fonction, j'ajoute un test pour des raisons pédagogiques mais normalement le code devrait être structuré différemment.\n",
    "*   Tester d'autres techniques de chunking. Explorer la documentation de Chonkie et tester d'autres techniques, tester différents paramètres... Pourquoi pas utiliser autre chose que Chonkie aussi.\n",
    "*   Améliorer le retrieval: énormément de choses peuvent être envisagées comme utiliser un autre modèle d'embedding. Pourquoi pas tester du reranking ?\n",
    "*   Améliorer le prompt, en tester plusieurs, ajouter une étape de reformulation de prompt.\n",
    "*   Tester d'autres modèles de language pour la génération de la réponse. Faire varier les paramètres.\n",
    "\n",
    "\n",
    "\n",
    "\n",
    "\n"
   ]
  }
 ],
 "metadata": {
  "accelerator": "GPU",
  "colab": {
   "gpuType": "T4",
   "provenance": []
  },
  "kernelspec": {
   "display_name": "Python 3",
   "name": "python3"
  },
  "language_info": {
   "name": "python"
  },
  "widgets": {
   "application/vnd.jupyter.widget-state+json": {
    "03de761e97864561a0a4ca9d1d77471f": {
     "model_module": "@jupyter-widgets/controls",
     "model_module_version": "1.5.0",
     "model_name": "ProgressStyleModel",
     "state": {
      "_model_module": "@jupyter-widgets/controls",
      "_model_module_version": "1.5.0",
      "_model_name": "ProgressStyleModel",
      "_view_count": null,
      "_view_module": "@jupyter-widgets/base",
      "_view_module_version": "1.2.0",
      "_view_name": "StyleView",
      "bar_color": null,
      "description_width": ""
     }
    },
    "04a2ebf72af84843ac8ecec2810d5af8": {
     "model_module": "@jupyter-widgets/base",
     "model_module_version": "1.2.0",
     "model_name": "LayoutModel",
     "state": {
      "_model_module": "@jupyter-widgets/base",
      "_model_module_version": "1.2.0",
      "_model_name": "LayoutModel",
      "_view_count": null,
      "_view_module": "@jupyter-widgets/base",
      "_view_module_version": "1.2.0",
      "_view_name": "LayoutView",
      "align_content": null,
      "align_items": null,
      "align_self": null,
      "border": null,
      "bottom": null,
      "display": null,
      "flex": null,
      "flex_flow": null,
      "grid_area": null,
      "grid_auto_columns": null,
      "grid_auto_flow": null,
      "grid_auto_rows": null,
      "grid_column": null,
      "grid_gap": null,
      "grid_row": null,
      "grid_template_areas": null,
      "grid_template_columns": null,
      "grid_template_rows": null,
      "height": null,
      "justify_content": null,
      "justify_items": null,
      "left": null,
      "margin": null,
      "max_height": null,
      "max_width": null,
      "min_height": null,
      "min_width": null,
      "object_fit": null,
      "object_position": null,
      "order": null,
      "overflow": null,
      "overflow_x": null,
      "overflow_y": null,
      "padding": null,
      "right": null,
      "top": null,
      "visibility": null,
      "width": null
     }
    },
    "09d31e74399c4f4290743faf35e9c0f5": {
     "model_module": "@jupyter-widgets/base",
     "model_module_version": "1.2.0",
     "model_name": "LayoutModel",
     "state": {
      "_model_module": "@jupyter-widgets/base",
      "_model_module_version": "1.2.0",
      "_model_name": "LayoutModel",
      "_view_count": null,
      "_view_module": "@jupyter-widgets/base",
      "_view_module_version": "1.2.0",
      "_view_name": "LayoutView",
      "align_content": null,
      "align_items": null,
      "align_self": null,
      "border": null,
      "bottom": null,
      "display": null,
      "flex": null,
      "flex_flow": null,
      "grid_area": null,
      "grid_auto_columns": null,
      "grid_auto_flow": null,
      "grid_auto_rows": null,
      "grid_column": null,
      "grid_gap": null,
      "grid_row": null,
      "grid_template_areas": null,
      "grid_template_columns": null,
      "grid_template_rows": null,
      "height": null,
      "justify_content": null,
      "justify_items": null,
      "left": null,
      "margin": null,
      "max_height": null,
      "max_width": null,
      "min_height": null,
      "min_width": null,
      "object_fit": null,
      "object_position": null,
      "order": null,
      "overflow": null,
      "overflow_x": null,
      "overflow_y": null,
      "padding": null,
      "right": null,
      "top": null,
      "visibility": null,
      "width": null
     }
    },
    "196fcde43a034c19b680b45b5df5a5e3": {
     "model_module": "@jupyter-widgets/base",
     "model_module_version": "1.2.0",
     "model_name": "LayoutModel",
     "state": {
      "_model_module": "@jupyter-widgets/base",
      "_model_module_version": "1.2.0",
      "_model_name": "LayoutModel",
      "_view_count": null,
      "_view_module": "@jupyter-widgets/base",
      "_view_module_version": "1.2.0",
      "_view_name": "LayoutView",
      "align_content": null,
      "align_items": null,
      "align_self": null,
      "border": null,
      "bottom": null,
      "display": null,
      "flex": null,
      "flex_flow": null,
      "grid_area": null,
      "grid_auto_columns": null,
      "grid_auto_flow": null,
      "grid_auto_rows": null,
      "grid_column": null,
      "grid_gap": null,
      "grid_row": null,
      "grid_template_areas": null,
      "grid_template_columns": null,
      "grid_template_rows": null,
      "height": null,
      "justify_content": null,
      "justify_items": null,
      "left": null,
      "margin": null,
      "max_height": null,
      "max_width": null,
      "min_height": null,
      "min_width": null,
      "object_fit": null,
      "object_position": null,
      "order": null,
      "overflow": null,
      "overflow_x": null,
      "overflow_y": null,
      "padding": null,
      "right": null,
      "top": null,
      "visibility": null,
      "width": null
     }
    },
    "280b011e57ef48e9b7b484c43a555904": {
     "model_module": "@jupyter-widgets/base",
     "model_module_version": "1.2.0",
     "model_name": "LayoutModel",
     "state": {
      "_model_module": "@jupyter-widgets/base",
      "_model_module_version": "1.2.0",
      "_model_name": "LayoutModel",
      "_view_count": null,
      "_view_module": "@jupyter-widgets/base",
      "_view_module_version": "1.2.0",
      "_view_name": "LayoutView",
      "align_content": null,
      "align_items": null,
      "align_self": null,
      "border": null,
      "bottom": null,
      "display": null,
      "flex": null,
      "flex_flow": null,
      "grid_area": null,
      "grid_auto_columns": null,
      "grid_auto_flow": null,
      "grid_auto_rows": null,
      "grid_column": null,
      "grid_gap": null,
      "grid_row": null,
      "grid_template_areas": null,
      "grid_template_columns": null,
      "grid_template_rows": null,
      "height": null,
      "justify_content": null,
      "justify_items": null,
      "left": null,
      "margin": null,
      "max_height": null,
      "max_width": null,
      "min_height": null,
      "min_width": null,
      "object_fit": null,
      "object_position": null,
      "order": null,
      "overflow": null,
      "overflow_x": null,
      "overflow_y": null,
      "padding": null,
      "right": null,
      "top": null,
      "visibility": null,
      "width": null
     }
    },
    "32bbc174ad194db892fb303dd069ff50": {
     "model_module": "@jupyter-widgets/controls",
     "model_module_version": "1.5.0",
     "model_name": "FloatProgressModel",
     "state": {
      "_dom_classes": [],
      "_model_module": "@jupyter-widgets/controls",
      "_model_module_version": "1.5.0",
      "_model_name": "FloatProgressModel",
      "_view_count": null,
      "_view_module": "@jupyter-widgets/controls",
      "_view_module_version": "1.5.0",
      "_view_name": "ProgressView",
      "bar_style": "success",
      "description": "",
      "description_tooltip": null,
      "layout": "IPY_MODEL_4ad05ee943e241d6800291a1332de177",
      "max": 2,
      "min": 0,
      "orientation": "horizontal",
      "style": "IPY_MODEL_f1b5afe902e14829a3cd4c0c221e39d4",
      "value": 2
     }
    },
    "48e160b6104d43fda5b2dd93111b9caa": {
     "model_module": "@jupyter-widgets/controls",
     "model_module_version": "1.5.0",
     "model_name": "HTMLModel",
     "state": {
      "_dom_classes": [],
      "_model_module": "@jupyter-widgets/controls",
      "_model_module_version": "1.5.0",
      "_model_name": "HTMLModel",
      "_view_count": null,
      "_view_module": "@jupyter-widgets/controls",
      "_view_module_version": "1.5.0",
      "_view_name": "HTMLView",
      "description": "",
      "description_tooltip": null,
      "layout": "IPY_MODEL_04a2ebf72af84843ac8ecec2810d5af8",
      "placeholder": "​",
      "style": "IPY_MODEL_c170033780f34bcc8f08c6e3d9638a8f",
      "value": " 2/2 [00:24&lt;00:00, 10.27s/it]"
     }
    },
    "4ad05ee943e241d6800291a1332de177": {
     "model_module": "@jupyter-widgets/base",
     "model_module_version": "1.2.0",
     "model_name": "LayoutModel",
     "state": {
      "_model_module": "@jupyter-widgets/base",
      "_model_module_version": "1.2.0",
      "_model_name": "LayoutModel",
      "_view_count": null,
      "_view_module": "@jupyter-widgets/base",
      "_view_module_version": "1.2.0",
      "_view_name": "LayoutView",
      "align_content": null,
      "align_items": null,
      "align_self": null,
      "border": null,
      "bottom": null,
      "display": null,
      "flex": null,
      "flex_flow": null,
      "grid_area": null,
      "grid_auto_columns": null,
      "grid_auto_flow": null,
      "grid_auto_rows": null,
      "grid_column": null,
      "grid_gap": null,
      "grid_row": null,
      "grid_template_areas": null,
      "grid_template_columns": null,
      "grid_template_rows": null,
      "height": null,
      "justify_content": null,
      "justify_items": null,
      "left": null,
      "margin": null,
      "max_height": null,
      "max_width": null,
      "min_height": null,
      "min_width": null,
      "object_fit": null,
      "object_position": null,
      "order": null,
      "overflow": null,
      "overflow_x": null,
      "overflow_y": null,
      "padding": null,
      "right": null,
      "top": null,
      "visibility": null,
      "width": null
     }
    },
    "6729b158fef440dbb2464f4c3d074704": {
     "model_module": "@jupyter-widgets/controls",
     "model_module_version": "1.5.0",
     "model_name": "HTMLModel",
     "state": {
      "_dom_classes": [],
      "_model_module": "@jupyter-widgets/controls",
      "_model_module_version": "1.5.0",
      "_model_name": "HTMLModel",
      "_view_count": null,
      "_view_module": "@jupyter-widgets/controls",
      "_view_module_version": "1.5.0",
      "_view_name": "HTMLView",
      "description": "",
      "description_tooltip": null,
      "layout": "IPY_MODEL_a7ddbd1b5dcc43f2bcc45fb9288e7403",
      "placeholder": "​",
      "style": "IPY_MODEL_b2cc1bfa69a8495bb9b227201eef8286",
      "value": " 2/2 [01:17&lt;00:00, 32.07s/it]"
     }
    },
    "70df57e5842e4a92ba9be3215dd20caa": {
     "model_module": "@jupyter-widgets/base",
     "model_module_version": "1.2.0",
     "model_name": "LayoutModel",
     "state": {
      "_model_module": "@jupyter-widgets/base",
      "_model_module_version": "1.2.0",
      "_model_name": "LayoutModel",
      "_view_count": null,
      "_view_module": "@jupyter-widgets/base",
      "_view_module_version": "1.2.0",
      "_view_name": "LayoutView",
      "align_content": null,
      "align_items": null,
      "align_self": null,
      "border": null,
      "bottom": null,
      "display": null,
      "flex": null,
      "flex_flow": null,
      "grid_area": null,
      "grid_auto_columns": null,
      "grid_auto_flow": null,
      "grid_auto_rows": null,
      "grid_column": null,
      "grid_gap": null,
      "grid_row": null,
      "grid_template_areas": null,
      "grid_template_columns": null,
      "grid_template_rows": null,
      "height": null,
      "justify_content": null,
      "justify_items": null,
      "left": null,
      "margin": null,
      "max_height": null,
      "max_width": null,
      "min_height": null,
      "min_width": null,
      "object_fit": null,
      "object_position": null,
      "order": null,
      "overflow": null,
      "overflow_x": null,
      "overflow_y": null,
      "padding": null,
      "right": null,
      "top": null,
      "visibility": null,
      "width": null
     }
    },
    "755996e5b03a468a8c2be4350ae9350b": {
     "model_module": "@jupyter-widgets/controls",
     "model_module_version": "1.5.0",
     "model_name": "HBoxModel",
     "state": {
      "_dom_classes": [],
      "_model_module": "@jupyter-widgets/controls",
      "_model_module_version": "1.5.0",
      "_model_name": "HBoxModel",
      "_view_count": null,
      "_view_module": "@jupyter-widgets/controls",
      "_view_module_version": "1.5.0",
      "_view_name": "HBoxView",
      "box_style": "",
      "children": [
       "IPY_MODEL_b611a7be263e45c0a4dadc87ccae110a",
       "IPY_MODEL_32bbc174ad194db892fb303dd069ff50",
       "IPY_MODEL_48e160b6104d43fda5b2dd93111b9caa"
      ],
      "layout": "IPY_MODEL_196fcde43a034c19b680b45b5df5a5e3"
     }
    },
    "989173516b7148d49178aa1203c00009": {
     "model_module": "@jupyter-widgets/controls",
     "model_module_version": "1.5.0",
     "model_name": "HTMLModel",
     "state": {
      "_dom_classes": [],
      "_model_module": "@jupyter-widgets/controls",
      "_model_module_version": "1.5.0",
      "_model_name": "HTMLModel",
      "_view_count": null,
      "_view_module": "@jupyter-widgets/controls",
      "_view_module_version": "1.5.0",
      "_view_name": "HTMLView",
      "description": "",
      "description_tooltip": null,
      "layout": "IPY_MODEL_70df57e5842e4a92ba9be3215dd20caa",
      "placeholder": "​",
      "style": "IPY_MODEL_e63af2ab189b4df6b26ca59943140d6e",
      "value": "Downloading shards: 100%"
     }
    },
    "a4a8337c05cc4352841afe93a7196a93": {
     "model_module": "@jupyter-widgets/base",
     "model_module_version": "1.2.0",
     "model_name": "LayoutModel",
     "state": {
      "_model_module": "@jupyter-widgets/base",
      "_model_module_version": "1.2.0",
      "_model_name": "LayoutModel",
      "_view_count": null,
      "_view_module": "@jupyter-widgets/base",
      "_view_module_version": "1.2.0",
      "_view_name": "LayoutView",
      "align_content": null,
      "align_items": null,
      "align_self": null,
      "border": null,
      "bottom": null,
      "display": null,
      "flex": null,
      "flex_flow": null,
      "grid_area": null,
      "grid_auto_columns": null,
      "grid_auto_flow": null,
      "grid_auto_rows": null,
      "grid_column": null,
      "grid_gap": null,
      "grid_row": null,
      "grid_template_areas": null,
      "grid_template_columns": null,
      "grid_template_rows": null,
      "height": null,
      "justify_content": null,
      "justify_items": null,
      "left": null,
      "margin": null,
      "max_height": null,
      "max_width": null,
      "min_height": null,
      "min_width": null,
      "object_fit": null,
      "object_position": null,
      "order": null,
      "overflow": null,
      "overflow_x": null,
      "overflow_y": null,
      "padding": null,
      "right": null,
      "top": null,
      "visibility": null,
      "width": null
     }
    },
    "a7ddbd1b5dcc43f2bcc45fb9288e7403": {
     "model_module": "@jupyter-widgets/base",
     "model_module_version": "1.2.0",
     "model_name": "LayoutModel",
     "state": {
      "_model_module": "@jupyter-widgets/base",
      "_model_module_version": "1.2.0",
      "_model_name": "LayoutModel",
      "_view_count": null,
      "_view_module": "@jupyter-widgets/base",
      "_view_module_version": "1.2.0",
      "_view_name": "LayoutView",
      "align_content": null,
      "align_items": null,
      "align_self": null,
      "border": null,
      "bottom": null,
      "display": null,
      "flex": null,
      "flex_flow": null,
      "grid_area": null,
      "grid_auto_columns": null,
      "grid_auto_flow": null,
      "grid_auto_rows": null,
      "grid_column": null,
      "grid_gap": null,
      "grid_row": null,
      "grid_template_areas": null,
      "grid_template_columns": null,
      "grid_template_rows": null,
      "height": null,
      "justify_content": null,
      "justify_items": null,
      "left": null,
      "margin": null,
      "max_height": null,
      "max_width": null,
      "min_height": null,
      "min_width": null,
      "object_fit": null,
      "object_position": null,
      "order": null,
      "overflow": null,
      "overflow_x": null,
      "overflow_y": null,
      "padding": null,
      "right": null,
      "top": null,
      "visibility": null,
      "width": null
     }
    },
    "b2cc1bfa69a8495bb9b227201eef8286": {
     "model_module": "@jupyter-widgets/controls",
     "model_module_version": "1.5.0",
     "model_name": "DescriptionStyleModel",
     "state": {
      "_model_module": "@jupyter-widgets/controls",
      "_model_module_version": "1.5.0",
      "_model_name": "DescriptionStyleModel",
      "_view_count": null,
      "_view_module": "@jupyter-widgets/base",
      "_view_module_version": "1.2.0",
      "_view_name": "StyleView",
      "description_width": ""
     }
    },
    "b611a7be263e45c0a4dadc87ccae110a": {
     "model_module": "@jupyter-widgets/controls",
     "model_module_version": "1.5.0",
     "model_name": "HTMLModel",
     "state": {
      "_dom_classes": [],
      "_model_module": "@jupyter-widgets/controls",
      "_model_module_version": "1.5.0",
      "_model_name": "HTMLModel",
      "_view_count": null,
      "_view_module": "@jupyter-widgets/controls",
      "_view_module_version": "1.5.0",
      "_view_name": "HTMLView",
      "description": "",
      "description_tooltip": null,
      "layout": "IPY_MODEL_09d31e74399c4f4290743faf35e9c0f5",
      "placeholder": "​",
      "style": "IPY_MODEL_c8fc736f681348c2bedd46854f4afbc2",
      "value": "Loading checkpoint shards: 100%"
     }
    },
    "c170033780f34bcc8f08c6e3d9638a8f": {
     "model_module": "@jupyter-widgets/controls",
     "model_module_version": "1.5.0",
     "model_name": "DescriptionStyleModel",
     "state": {
      "_model_module": "@jupyter-widgets/controls",
      "_model_module_version": "1.5.0",
      "_model_name": "DescriptionStyleModel",
      "_view_count": null,
      "_view_module": "@jupyter-widgets/base",
      "_view_module_version": "1.2.0",
      "_view_name": "StyleView",
      "description_width": ""
     }
    },
    "c8fc736f681348c2bedd46854f4afbc2": {
     "model_module": "@jupyter-widgets/controls",
     "model_module_version": "1.5.0",
     "model_name": "DescriptionStyleModel",
     "state": {
      "_model_module": "@jupyter-widgets/controls",
      "_model_module_version": "1.5.0",
      "_model_name": "DescriptionStyleModel",
      "_view_count": null,
      "_view_module": "@jupyter-widgets/base",
      "_view_module_version": "1.2.0",
      "_view_name": "StyleView",
      "description_width": ""
     }
    },
    "d0f9fd74208748b28d7b42404b4d532a": {
     "model_module": "@jupyter-widgets/controls",
     "model_module_version": "1.5.0",
     "model_name": "FloatProgressModel",
     "state": {
      "_dom_classes": [],
      "_model_module": "@jupyter-widgets/controls",
      "_model_module_version": "1.5.0",
      "_model_name": "FloatProgressModel",
      "_view_count": null,
      "_view_module": "@jupyter-widgets/controls",
      "_view_module_version": "1.5.0",
      "_view_name": "ProgressView",
      "bar_style": "success",
      "description": "",
      "description_tooltip": null,
      "layout": "IPY_MODEL_a4a8337c05cc4352841afe93a7196a93",
      "max": 2,
      "min": 0,
      "orientation": "horizontal",
      "style": "IPY_MODEL_03de761e97864561a0a4ca9d1d77471f",
      "value": 2
     }
    },
    "e0e598683e88494898a9f9d9cbdb875c": {
     "model_module": "@jupyter-widgets/controls",
     "model_module_version": "1.5.0",
     "model_name": "HBoxModel",
     "state": {
      "_dom_classes": [],
      "_model_module": "@jupyter-widgets/controls",
      "_model_module_version": "1.5.0",
      "_model_name": "HBoxModel",
      "_view_count": null,
      "_view_module": "@jupyter-widgets/controls",
      "_view_module_version": "1.5.0",
      "_view_name": "HBoxView",
      "box_style": "",
      "children": [
       "IPY_MODEL_989173516b7148d49178aa1203c00009",
       "IPY_MODEL_d0f9fd74208748b28d7b42404b4d532a",
       "IPY_MODEL_6729b158fef440dbb2464f4c3d074704"
      ],
      "layout": "IPY_MODEL_280b011e57ef48e9b7b484c43a555904"
     }
    },
    "e63af2ab189b4df6b26ca59943140d6e": {
     "model_module": "@jupyter-widgets/controls",
     "model_module_version": "1.5.0",
     "model_name": "DescriptionStyleModel",
     "state": {
      "_model_module": "@jupyter-widgets/controls",
      "_model_module_version": "1.5.0",
      "_model_name": "DescriptionStyleModel",
      "_view_count": null,
      "_view_module": "@jupyter-widgets/base",
      "_view_module_version": "1.2.0",
      "_view_name": "StyleView",
      "description_width": ""
     }
    },
    "f1b5afe902e14829a3cd4c0c221e39d4": {
     "model_module": "@jupyter-widgets/controls",
     "model_module_version": "1.5.0",
     "model_name": "ProgressStyleModel",
     "state": {
      "_model_module": "@jupyter-widgets/controls",
      "_model_module_version": "1.5.0",
      "_model_name": "ProgressStyleModel",
      "_view_count": null,
      "_view_module": "@jupyter-widgets/base",
      "_view_module_version": "1.2.0",
      "_view_name": "StyleView",
      "bar_color": null,
      "description_width": ""
     }
    }
   }
  }
 },
 "nbformat": 4,
 "nbformat_minor": 0
}
